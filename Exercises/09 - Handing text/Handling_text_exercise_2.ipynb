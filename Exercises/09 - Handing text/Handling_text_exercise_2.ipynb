{
 "cells": [
  {
   "cell_type": "code",
   "execution_count": 87,
   "metadata": {
    "tags": []
   },
   "outputs": [],
   "source": [
    "import numpy as np\n",
    "import pandas as pd\n",
    "import matplotlib.pyplot as plt\n",
    "%matplotlib inline\n",
    "from sklearn.linear_model import LogisticRegressionCV\n",
    "from sklearn.decomposition import TruncatedSVD\n",
    "from sklearn.feature_extraction.text import TfidfVectorizer\n",
    "from helpers.helper_functions import *"
   ]
  },
  {
   "cell_type": "markdown",
   "metadata": {},
   "source": [
    "# Handling text 2 exercise\n",
    "[Handling text exercisses ADApted drom ADA 2018 final exam]\n",
    "\n",
    "The Sheldon Cooper we all know and love (OK, some of us might not know him, and some might not love him) from the TV series \"The Big Bang Theory\" has gotten into an argument with Leonard from the same TV show. Sheldon insists that he knows the show better than anyone, and keeps making various claims about the show, which neither of them know how to prove or disprove. The two of them have reached out to you ladies and gentlemen, as data scientists, to help them. You will be given the full script of the series, with information on the episode, the scene, the person saying each dialogue line, and the dialogue lines themselves.\n",
    "\n",
    "Leonard has challenged several of Sheldon's claims about the show, and throughout this exam you will see some of those and you will get to prove or disprove them, but remember: sometimes, we can neither prove a claim, nor disprove it!"
   ]
  },
  {
   "cell_type": "markdown",
   "metadata": {},
   "source": [
    "## Task A: Picking up the shovel\n",
    "\n",
    "**Note: You will use the data you preprocess in this task in all the subsequent ones.**\n",
    "\n",
    "Our friends' argument concerns the entire show. We have given you a file in the `data/` folder that contains the script of every single episode. New episodes are indicated by '>>', new scenes by '>', and the rest of the lines are dialogue lines. Some lines are said by multiple people (for example, lines indicated by 'All' or 'Together'); **you must discard these lines**, for the sake of simplicity. However, you do not need to do it for Q1 in this task -- you'll take care of it when you solve Q2.\n",
    "\n",
    "**Q1**. Your first task is to extract all lines of dialogue in each scene and episode, creating a dataframe where each row has the episode and scene where a dialogue line was said, the character who said it, and the line itself. You do not need to extract the proper name of the episode (e.g. episode 1 can appear as \"Series 01 Episode 01 - Pilot Episode\", and doesn't need to appear as \"Pilot Episode\"). Then, answer the following question: In total, how many scenes are there in each season? We're not asking about unique scenes; the same location appearing in two episodes counts as two scenes. You can use a Pandas dataframe with a season column and a scene count column as the response.\n",
    "\n",
    "**Note: The data refers to seasons as \"series\".**"
   ]
  },
  {
   "cell_type": "code",
   "execution_count": 88,
   "metadata": {},
   "outputs": [
    {
     "data": {
      "text/html": [
       "<div>\n",
       "<style scoped>\n",
       "    .dataframe tbody tr th:only-of-type {\n",
       "        vertical-align: middle;\n",
       "    }\n",
       "\n",
       "    .dataframe tbody tr th {\n",
       "        vertical-align: top;\n",
       "    }\n",
       "\n",
       "    .dataframe thead th {\n",
       "        text-align: right;\n",
       "    }\n",
       "</style>\n",
       "<table border=\"1\" class=\"dataframe\">\n",
       "  <thead>\n",
       "    <tr style=\"text-align: right;\">\n",
       "      <th></th>\n",
       "      <th>Season</th>\n",
       "      <th>Episode</th>\n",
       "      <th>Scene</th>\n",
       "      <th>Character</th>\n",
       "      <th>Line</th>\n",
       "    </tr>\n",
       "  </thead>\n",
       "  <tbody>\n",
       "    <tr>\n",
       "      <th>0</th>\n",
       "      <td>1</td>\n",
       "      <td>Series 01 Episode 01 – Pilot Episode</td>\n",
       "      <td>A corridor at a sperm bank.</td>\n",
       "      <td>Sheldon</td>\n",
       "      <td>So if a photon is directed through a plane wit...</td>\n",
       "    </tr>\n",
       "    <tr>\n",
       "      <th>1</th>\n",
       "      <td>1</td>\n",
       "      <td>Series 01 Episode 01 – Pilot Episode</td>\n",
       "      <td>A corridor at a sperm bank.</td>\n",
       "      <td>Leonard</td>\n",
       "      <td>Agreed, what’s your point?</td>\n",
       "    </tr>\n",
       "    <tr>\n",
       "      <th>2</th>\n",
       "      <td>1</td>\n",
       "      <td>Series 01 Episode 01 – Pilot Episode</td>\n",
       "      <td>A corridor at a sperm bank.</td>\n",
       "      <td>Sheldon</td>\n",
       "      <td>There’s no point, I just think it’s a good ide...</td>\n",
       "    </tr>\n",
       "    <tr>\n",
       "      <th>3</th>\n",
       "      <td>1</td>\n",
       "      <td>Series 01 Episode 01 – Pilot Episode</td>\n",
       "      <td>A corridor at a sperm bank.</td>\n",
       "      <td>Leonard</td>\n",
       "      <td>Excuse me?</td>\n",
       "    </tr>\n",
       "    <tr>\n",
       "      <th>4</th>\n",
       "      <td>1</td>\n",
       "      <td>Series 01 Episode 01 – Pilot Episode</td>\n",
       "      <td>A corridor at a sperm bank.</td>\n",
       "      <td>Receptionist</td>\n",
       "      <td>Hang on.</td>\n",
       "    </tr>\n",
       "  </tbody>\n",
       "</table>\n",
       "</div>"
      ],
      "text/plain": [
       "   Season                               Episode                        Scene  \\\n",
       "0       1  Series 01 Episode 01 – Pilot Episode  A corridor at a sperm bank.   \n",
       "1       1  Series 01 Episode 01 – Pilot Episode  A corridor at a sperm bank.   \n",
       "2       1  Series 01 Episode 01 – Pilot Episode  A corridor at a sperm bank.   \n",
       "3       1  Series 01 Episode 01 – Pilot Episode  A corridor at a sperm bank.   \n",
       "4       1  Series 01 Episode 01 – Pilot Episode  A corridor at a sperm bank.   \n",
       "\n",
       "      Character                                               Line  \n",
       "0       Sheldon  So if a photon is directed through a plane wit...  \n",
       "1       Leonard                         Agreed, what’s your point?  \n",
       "2       Sheldon  There’s no point, I just think it’s a good ide...  \n",
       "3       Leonard                                         Excuse me?  \n",
       "4  Receptionist                                           Hang on.  "
      ]
     },
     "metadata": {},
     "output_type": "display_data"
    }
   ],
   "source": [
    "# your code goes here\n",
    "# load data\n",
    "season = \"\"\n",
    "episode = \"\"\n",
    "scene = \"\"\n",
    "data = []\n",
    "with open(\"data/all_scripts.txt\") as f:\n",
    "    for line in f.readlines():\n",
    "        line = line[:-1]\n",
    "        #if line begin with >>\n",
    "        if line.startswith(\">>\"):\n",
    "            season = int(line[10:12])\n",
    "            episode = line[3:]\n",
    "            continue\n",
    "        #if line begin with >\n",
    "        if line.startswith(\">\"):\n",
    "            scene = line[2:]\n",
    "            continue\n",
    "        character, line = line.split(\": \", 1)\n",
    "        data.append([season, episode, scene, character, line])\n",
    "lines = pd.DataFrame(data, columns=[\"Season\", \"Episode\", \"Scene\", \"Character\", \"Line\"])\n",
    "\n",
    "display(lines.head())"
   ]
  },
  {
   "cell_type": "code",
   "execution_count": 89,
   "metadata": {},
   "outputs": [
    {
     "data": {
      "text/html": [
       "<div>\n",
       "<style scoped>\n",
       "    .dataframe tbody tr th:only-of-type {\n",
       "        vertical-align: middle;\n",
       "    }\n",
       "\n",
       "    .dataframe tbody tr th {\n",
       "        vertical-align: top;\n",
       "    }\n",
       "\n",
       "    .dataframe thead th {\n",
       "        text-align: right;\n",
       "    }\n",
       "</style>\n",
       "<table border=\"1\" class=\"dataframe\">\n",
       "  <thead>\n",
       "    <tr style=\"text-align: right;\">\n",
       "      <th></th>\n",
       "      <th>Scene</th>\n",
       "    </tr>\n",
       "    <tr>\n",
       "      <th>Season</th>\n",
       "      <th></th>\n",
       "    </tr>\n",
       "  </thead>\n",
       "  <tbody>\n",
       "    <tr>\n",
       "      <th>1</th>\n",
       "      <td>157</td>\n",
       "    </tr>\n",
       "    <tr>\n",
       "      <th>2</th>\n",
       "      <td>205</td>\n",
       "    </tr>\n",
       "    <tr>\n",
       "      <th>3</th>\n",
       "      <td>193</td>\n",
       "    </tr>\n",
       "    <tr>\n",
       "      <th>4</th>\n",
       "      <td>219</td>\n",
       "    </tr>\n",
       "    <tr>\n",
       "      <th>5</th>\n",
       "      <td>198</td>\n",
       "    </tr>\n",
       "    <tr>\n",
       "      <th>6</th>\n",
       "      <td>211</td>\n",
       "    </tr>\n",
       "    <tr>\n",
       "      <th>7</th>\n",
       "      <td>207</td>\n",
       "    </tr>\n",
       "    <tr>\n",
       "      <th>8</th>\n",
       "      <td>191</td>\n",
       "    </tr>\n",
       "    <tr>\n",
       "      <th>9</th>\n",
       "      <td>177</td>\n",
       "    </tr>\n",
       "    <tr>\n",
       "      <th>10</th>\n",
       "      <td>189</td>\n",
       "    </tr>\n",
       "  </tbody>\n",
       "</table>\n",
       "</div>"
      ],
      "text/plain": [
       "        Scene\n",
       "Season       \n",
       "1         157\n",
       "2         205\n",
       "3         193\n",
       "4         219\n",
       "5         198\n",
       "6         211\n",
       "7         207\n",
       "8         191\n",
       "9         177\n",
       "10        189"
      ]
     },
     "metadata": {},
     "output_type": "display_data"
    }
   ],
   "source": [
    "#count number of lines per scene\n",
    "\n",
    "lines_per_scene = lines.groupby([\"Season\", \"Episode\", \"Scene\"]).count().reset_index().groupby(\"Season\").count()[[\"Scene\"]]\n",
    "\n",
    "display(lines_per_scene)"
   ]
  },
  {
   "cell_type": "markdown",
   "metadata": {},
   "source": [
    "**Q2**. Now, let's define two sets of characters: all the characters, and recurrent characters. Recurrent characters are those who appear in more than one episode. For the subsequent sections, you will need to have a list of recurrent characters. Assume that there are no two _named characters_ (i.e. characters who have actual names and aren't referred to generically as \"little girl\", \"grumpy grandpa\", etc.) with the same name, i.e. there are no two Sheldons, etc. Generate a list of recurrent characters who have more than 90 dialogue lines in total, and then take a look at the list you have. If you've done this correctly, you should have a list of 20 names. However, one of these is clearly not a recurrent character. Manually remove that one, and print out your list of recurrent characters. To remove that character, pay attention to the _named character_ assumption we gave you earlier on. **For all the subsequent questions, you must only keep the dialogue lines said by the recurrent characters in your list.**"
   ]
  },
  {
   "cell_type": "code",
   "execution_count": 90,
   "metadata": {},
   "outputs": [
    {
     "data": {
      "text/html": [
       "<div>\n",
       "<style scoped>\n",
       "    .dataframe tbody tr th:only-of-type {\n",
       "        vertical-align: middle;\n",
       "    }\n",
       "\n",
       "    .dataframe tbody tr th {\n",
       "        vertical-align: top;\n",
       "    }\n",
       "\n",
       "    .dataframe thead th {\n",
       "        text-align: right;\n",
       "    }\n",
       "</style>\n",
       "<table border=\"1\" class=\"dataframe\">\n",
       "  <thead>\n",
       "    <tr style=\"text-align: right;\">\n",
       "      <th></th>\n",
       "      <th>Episode</th>\n",
       "      <th>Line</th>\n",
       "    </tr>\n",
       "    <tr>\n",
       "      <th>Character</th>\n",
       "      <th></th>\n",
       "      <th></th>\n",
       "    </tr>\n",
       "  </thead>\n",
       "  <tbody>\n",
       "    <tr>\n",
       "      <th>Amy</th>\n",
       "      <td>3472</td>\n",
       "      <td>3472</td>\n",
       "    </tr>\n",
       "    <tr>\n",
       "      <th>Arthur</th>\n",
       "      <td>130</td>\n",
       "      <td>130</td>\n",
       "    </tr>\n",
       "    <tr>\n",
       "      <th>Bernadette</th>\n",
       "      <td>2690</td>\n",
       "      <td>2690</td>\n",
       "    </tr>\n",
       "    <tr>\n",
       "      <th>Bert</th>\n",
       "      <td>95</td>\n",
       "      <td>95</td>\n",
       "    </tr>\n",
       "    <tr>\n",
       "      <th>Beverley</th>\n",
       "      <td>162</td>\n",
       "      <td>162</td>\n",
       "    </tr>\n",
       "    <tr>\n",
       "      <th>Emily</th>\n",
       "      <td>164</td>\n",
       "      <td>164</td>\n",
       "    </tr>\n",
       "    <tr>\n",
       "      <th>Howard</th>\n",
       "      <td>5872</td>\n",
       "      <td>5872</td>\n",
       "    </tr>\n",
       "    <tr>\n",
       "      <th>Kripke</th>\n",
       "      <td>106</td>\n",
       "      <td>106</td>\n",
       "    </tr>\n",
       "    <tr>\n",
       "      <th>Leonard</th>\n",
       "      <td>9829</td>\n",
       "      <td>9829</td>\n",
       "    </tr>\n",
       "    <tr>\n",
       "      <th>Leslie</th>\n",
       "      <td>116</td>\n",
       "      <td>116</td>\n",
       "    </tr>\n",
       "    <tr>\n",
       "      <th>Man</th>\n",
       "      <td>105</td>\n",
       "      <td>105</td>\n",
       "    </tr>\n",
       "    <tr>\n",
       "      <th>Mrs Cooper</th>\n",
       "      <td>213</td>\n",
       "      <td>213</td>\n",
       "    </tr>\n",
       "    <tr>\n",
       "      <th>Mrs Wolowitz</th>\n",
       "      <td>136</td>\n",
       "      <td>136</td>\n",
       "    </tr>\n",
       "    <tr>\n",
       "      <th>Penny</th>\n",
       "      <td>7677</td>\n",
       "      <td>7677</td>\n",
       "    </tr>\n",
       "    <tr>\n",
       "      <th>Priya</th>\n",
       "      <td>222</td>\n",
       "      <td>222</td>\n",
       "    </tr>\n",
       "    <tr>\n",
       "      <th>Raj</th>\n",
       "      <td>4779</td>\n",
       "      <td>4779</td>\n",
       "    </tr>\n",
       "    <tr>\n",
       "      <th>Sheldon</th>\n",
       "      <td>11689</td>\n",
       "      <td>11689</td>\n",
       "    </tr>\n",
       "    <tr>\n",
       "      <th>Stuart</th>\n",
       "      <td>733</td>\n",
       "      <td>733</td>\n",
       "    </tr>\n",
       "    <tr>\n",
       "      <th>Wil</th>\n",
       "      <td>126</td>\n",
       "      <td>126</td>\n",
       "    </tr>\n",
       "    <tr>\n",
       "      <th>Zack</th>\n",
       "      <td>135</td>\n",
       "      <td>135</td>\n",
       "    </tr>\n",
       "  </tbody>\n",
       "</table>\n",
       "</div>"
      ],
      "text/plain": [
       "              Episode   Line\n",
       "Character                   \n",
       "Amy              3472   3472\n",
       "Arthur            130    130\n",
       "Bernadette       2690   2690\n",
       "Bert               95     95\n",
       "Beverley          162    162\n",
       "Emily             164    164\n",
       "Howard           5872   5872\n",
       "Kripke            106    106\n",
       "Leonard          9829   9829\n",
       "Leslie            116    116\n",
       "Man               105    105\n",
       "Mrs Cooper        213    213\n",
       "Mrs Wolowitz      136    136\n",
       "Penny            7677   7677\n",
       "Priya             222    222\n",
       "Raj              4779   4779\n",
       "Sheldon         11689  11689\n",
       "Stuart            733    733\n",
       "Wil               126    126\n",
       "Zack              135    135"
      ]
     },
     "metadata": {},
     "output_type": "display_data"
    },
    {
     "data": {
      "text/html": [
       "<div>\n",
       "<style scoped>\n",
       "    .dataframe tbody tr th:only-of-type {\n",
       "        vertical-align: middle;\n",
       "    }\n",
       "\n",
       "    .dataframe tbody tr th {\n",
       "        vertical-align: top;\n",
       "    }\n",
       "\n",
       "    .dataframe thead th {\n",
       "        text-align: right;\n",
       "    }\n",
       "</style>\n",
       "<table border=\"1\" class=\"dataframe\">\n",
       "  <thead>\n",
       "    <tr style=\"text-align: right;\">\n",
       "      <th></th>\n",
       "      <th>Episode</th>\n",
       "      <th>Line</th>\n",
       "    </tr>\n",
       "    <tr>\n",
       "      <th>Character</th>\n",
       "      <th></th>\n",
       "      <th></th>\n",
       "    </tr>\n",
       "  </thead>\n",
       "  <tbody>\n",
       "    <tr>\n",
       "      <th>Amy</th>\n",
       "      <td>3472</td>\n",
       "      <td>3472</td>\n",
       "    </tr>\n",
       "    <tr>\n",
       "      <th>Arthur</th>\n",
       "      <td>130</td>\n",
       "      <td>130</td>\n",
       "    </tr>\n",
       "    <tr>\n",
       "      <th>Bernadette</th>\n",
       "      <td>2690</td>\n",
       "      <td>2690</td>\n",
       "    </tr>\n",
       "    <tr>\n",
       "      <th>Bert</th>\n",
       "      <td>95</td>\n",
       "      <td>95</td>\n",
       "    </tr>\n",
       "    <tr>\n",
       "      <th>Beverley</th>\n",
       "      <td>162</td>\n",
       "      <td>162</td>\n",
       "    </tr>\n",
       "    <tr>\n",
       "      <th>Emily</th>\n",
       "      <td>164</td>\n",
       "      <td>164</td>\n",
       "    </tr>\n",
       "    <tr>\n",
       "      <th>Howard</th>\n",
       "      <td>5872</td>\n",
       "      <td>5872</td>\n",
       "    </tr>\n",
       "    <tr>\n",
       "      <th>Kripke</th>\n",
       "      <td>106</td>\n",
       "      <td>106</td>\n",
       "    </tr>\n",
       "    <tr>\n",
       "      <th>Leonard</th>\n",
       "      <td>9829</td>\n",
       "      <td>9829</td>\n",
       "    </tr>\n",
       "    <tr>\n",
       "      <th>Leslie</th>\n",
       "      <td>116</td>\n",
       "      <td>116</td>\n",
       "    </tr>\n",
       "    <tr>\n",
       "      <th>Man</th>\n",
       "      <td>105</td>\n",
       "      <td>105</td>\n",
       "    </tr>\n",
       "    <tr>\n",
       "      <th>Mrs Cooper</th>\n",
       "      <td>213</td>\n",
       "      <td>213</td>\n",
       "    </tr>\n",
       "    <tr>\n",
       "      <th>Mrs Wolowitz</th>\n",
       "      <td>136</td>\n",
       "      <td>136</td>\n",
       "    </tr>\n",
       "    <tr>\n",
       "      <th>Penny</th>\n",
       "      <td>7677</td>\n",
       "      <td>7677</td>\n",
       "    </tr>\n",
       "    <tr>\n",
       "      <th>Priya</th>\n",
       "      <td>222</td>\n",
       "      <td>222</td>\n",
       "    </tr>\n",
       "    <tr>\n",
       "      <th>Raj</th>\n",
       "      <td>4779</td>\n",
       "      <td>4779</td>\n",
       "    </tr>\n",
       "    <tr>\n",
       "      <th>Sheldon</th>\n",
       "      <td>11689</td>\n",
       "      <td>11689</td>\n",
       "    </tr>\n",
       "    <tr>\n",
       "      <th>Stuart</th>\n",
       "      <td>733</td>\n",
       "      <td>733</td>\n",
       "    </tr>\n",
       "    <tr>\n",
       "      <th>Wil</th>\n",
       "      <td>126</td>\n",
       "      <td>126</td>\n",
       "    </tr>\n",
       "    <tr>\n",
       "      <th>Zack</th>\n",
       "      <td>135</td>\n",
       "      <td>135</td>\n",
       "    </tr>\n",
       "  </tbody>\n",
       "</table>\n",
       "</div>"
      ],
      "text/plain": [
       "              Episode   Line\n",
       "Character                   \n",
       "Amy              3472   3472\n",
       "Arthur            130    130\n",
       "Bernadette       2690   2690\n",
       "Bert               95     95\n",
       "Beverley          162    162\n",
       "Emily             164    164\n",
       "Howard           5872   5872\n",
       "Kripke            106    106\n",
       "Leonard          9829   9829\n",
       "Leslie            116    116\n",
       "Man               105    105\n",
       "Mrs Cooper        213    213\n",
       "Mrs Wolowitz      136    136\n",
       "Penny            7677   7677\n",
       "Priya             222    222\n",
       "Raj              4779   4779\n",
       "Sheldon         11689  11689\n",
       "Stuart            733    733\n",
       "Wil               126    126\n",
       "Zack              135    135"
      ]
     },
     "metadata": {},
     "output_type": "display_data"
    },
    {
     "name": "stdout",
     "output_type": "stream",
     "text": [
      "The number of reccurent characters:  20\n"
     ]
    }
   ],
   "source": [
    "# your code goes here\n",
    "\n",
    "characters = lines['Character'].unique()\n",
    "\n",
    "#recurrent characters when character appears in more than 2 episodes\n",
    "characters_by_episode = lines.groupby(\"Character\").count()[[\"Episode\", \"Line\"]]\n",
    "display(characters_by_episode[characters_by_episode[\"Line\"] > 90])\n",
    "\n",
    "#remove character \"Man\"\n",
    "characters_recurrent = characters_by_episode[characters_by_episode[\"Line\"] > 90]\n",
    "characters_recurrent.drop('Man')\n",
    "characters_recurrent = characters_recurrent\n",
    "\n",
    "display(characters_recurrent)\n",
    "print(\"The number of reccurent characters: \", len(characters_recurrent))\n"
   ]
  },
  {
   "cell_type": "markdown",
   "metadata": {},
   "source": [
    "## Task B: Read the scripts carefully\n",
    "\n",
    "### Part 1: Don't put the shovel down just yet\n",
    "\n",
    "**Q3**. From each dialogue line, replace punctuation marks (listed in the EXCLUDE_CHARS variable provided in `helpers/helper_functions.py`) with whitespaces, and lowercase all the text. **Do not remove any stopwords, leave them be for all the questions in this task.**"
   ]
  },
  {
   "cell_type": "code",
   "execution_count": 91,
   "metadata": {},
   "outputs": [],
   "source": [
    "lines_recurrent = lines[lines[\"Character\"].isin(characters_recurrent.index)]"
   ]
  },
  {
   "cell_type": "code",
   "execution_count": 92,
   "metadata": {},
   "outputs": [
    {
     "data": {
      "text/html": [
       "<div>\n",
       "<style scoped>\n",
       "    .dataframe tbody tr th:only-of-type {\n",
       "        vertical-align: middle;\n",
       "    }\n",
       "\n",
       "    .dataframe tbody tr th {\n",
       "        vertical-align: top;\n",
       "    }\n",
       "\n",
       "    .dataframe thead th {\n",
       "        text-align: right;\n",
       "    }\n",
       "</style>\n",
       "<table border=\"1\" class=\"dataframe\">\n",
       "  <thead>\n",
       "    <tr style=\"text-align: right;\">\n",
       "      <th></th>\n",
       "      <th>Season</th>\n",
       "      <th>Episode</th>\n",
       "      <th>Scene</th>\n",
       "      <th>Character</th>\n",
       "      <th>Line</th>\n",
       "    </tr>\n",
       "  </thead>\n",
       "  <tbody>\n",
       "    <tr>\n",
       "      <th>0</th>\n",
       "      <td>1</td>\n",
       "      <td>Series 01 Episode 01 – Pilot Episode</td>\n",
       "      <td>A corridor at a sperm bank.</td>\n",
       "      <td>Sheldon</td>\n",
       "      <td>so if a photon is directed through a plane wit...</td>\n",
       "    </tr>\n",
       "    <tr>\n",
       "      <th>1</th>\n",
       "      <td>1</td>\n",
       "      <td>Series 01 Episode 01 – Pilot Episode</td>\n",
       "      <td>A corridor at a sperm bank.</td>\n",
       "      <td>Leonard</td>\n",
       "      <td>agreed  what s your point</td>\n",
       "    </tr>\n",
       "    <tr>\n",
       "      <th>2</th>\n",
       "      <td>1</td>\n",
       "      <td>Series 01 Episode 01 – Pilot Episode</td>\n",
       "      <td>A corridor at a sperm bank.</td>\n",
       "      <td>Sheldon</td>\n",
       "      <td>there s no point  i just think it s a good ide...</td>\n",
       "    </tr>\n",
       "    <tr>\n",
       "      <th>3</th>\n",
       "      <td>1</td>\n",
       "      <td>Series 01 Episode 01 – Pilot Episode</td>\n",
       "      <td>A corridor at a sperm bank.</td>\n",
       "      <td>Leonard</td>\n",
       "      <td>excuse me</td>\n",
       "    </tr>\n",
       "    <tr>\n",
       "      <th>4</th>\n",
       "      <td>1</td>\n",
       "      <td>Series 01 Episode 01 – Pilot Episode</td>\n",
       "      <td>A corridor at a sperm bank.</td>\n",
       "      <td>Receptionist</td>\n",
       "      <td>hang on</td>\n",
       "    </tr>\n",
       "  </tbody>\n",
       "</table>\n",
       "</div>"
      ],
      "text/plain": [
       "   Season                               Episode                        Scene  \\\n",
       "0       1  Series 01 Episode 01 – Pilot Episode  A corridor at a sperm bank.   \n",
       "1       1  Series 01 Episode 01 – Pilot Episode  A corridor at a sperm bank.   \n",
       "2       1  Series 01 Episode 01 – Pilot Episode  A corridor at a sperm bank.   \n",
       "3       1  Series 01 Episode 01 – Pilot Episode  A corridor at a sperm bank.   \n",
       "4       1  Series 01 Episode 01 – Pilot Episode  A corridor at a sperm bank.   \n",
       "\n",
       "      Character                                               Line  \n",
       "0       Sheldon  so if a photon is directed through a plane wit...  \n",
       "1       Leonard                         agreed  what s your point   \n",
       "2       Sheldon  there s no point  i just think it s a good ide...  \n",
       "3       Leonard                                         excuse me   \n",
       "4  Receptionist                                           hang on   "
      ]
     },
     "execution_count": 92,
     "metadata": {},
     "output_type": "execute_result"
    }
   ],
   "source": [
    "def clean_line(line):\n",
    "    for char in EXCLUDE_CHARS:\n",
    "        line = line.replace(char, ' ')\n",
    "    return line.lower()\n",
    "lines[\"Line\"] = lines[\"Line\"].apply(clean_line)\n",
    "lines.head()"
   ]
  },
  {
   "cell_type": "markdown",
   "metadata": {},
   "source": [
    "**Q4**. For each term, calculate its \"corpus frequency\", i.e. its number of occurrences in the entire series. Visualize the distribution of corpus frequency using a histogram. Explain your observations. What are the appropriate x and y scales for this plot?"
   ]
  },
  {
   "cell_type": "code",
   "execution_count": 93,
   "metadata": {},
   "outputs": [
    {
     "data": {
      "text/html": [
       "<div>\n",
       "<style scoped>\n",
       "    .dataframe tbody tr th:only-of-type {\n",
       "        vertical-align: middle;\n",
       "    }\n",
       "\n",
       "    .dataframe tbody tr th {\n",
       "        vertical-align: top;\n",
       "    }\n",
       "\n",
       "    .dataframe thead th {\n",
       "        text-align: right;\n",
       "    }\n",
       "</style>\n",
       "<table border=\"1\" class=\"dataframe\">\n",
       "  <thead>\n",
       "    <tr style=\"text-align: right;\">\n",
       "      <th></th>\n",
       "      <th>index</th>\n",
       "    </tr>\n",
       "    <tr>\n",
       "      <th>word</th>\n",
       "      <th></th>\n",
       "    </tr>\n",
       "  </thead>\n",
       "  <tbody>\n",
       "    <tr>\n",
       "      <th></th>\n",
       "      <td>136530</td>\n",
       "    </tr>\n",
       "    <tr>\n",
       "      <th>0</th>\n",
       "      <td>6</td>\n",
       "    </tr>\n",
       "    <tr>\n",
       "      <th>00</th>\n",
       "      <td>5</td>\n",
       "    </tr>\n",
       "    <tr>\n",
       "      <th>000</th>\n",
       "      <td>33</td>\n",
       "    </tr>\n",
       "    <tr>\n",
       "      <th>000lb</th>\n",
       "      <td>1</td>\n",
       "    </tr>\n",
       "    <tr>\n",
       "      <th>...</th>\n",
       "      <td>...</td>\n",
       "    </tr>\n",
       "    <tr>\n",
       "      <th>…tion</th>\n",
       "      <td>1</td>\n",
       "    </tr>\n",
       "    <tr>\n",
       "      <th>…when</th>\n",
       "      <td>1</td>\n",
       "    </tr>\n",
       "    <tr>\n",
       "      <th>…who</th>\n",
       "      <td>1</td>\n",
       "    </tr>\n",
       "    <tr>\n",
       "      <th>‭yeah</th>\n",
       "      <td>1</td>\n",
       "    </tr>\n",
       "    <tr>\n",
       "      <th>♪</th>\n",
       "      <td>1</td>\n",
       "    </tr>\n",
       "  </tbody>\n",
       "</table>\n",
       "<p>21692 rows × 1 columns</p>\n",
       "</div>"
      ],
      "text/plain": [
       "        index\n",
       "word         \n",
       "       136530\n",
       "0           6\n",
       "00          5\n",
       "000        33\n",
       "000lb       1\n",
       "...       ...\n",
       "…tion       1\n",
       "…when       1\n",
       "…who        1\n",
       "‭yeah       1\n",
       "♪           1\n",
       "\n",
       "[21692 rows x 1 columns]"
      ]
     },
     "metadata": {},
     "output_type": "display_data"
    }
   ],
   "source": [
    "# your code goes here\n",
    "corpus_frequency =  pd.concat([pd.Series(row['Line'].split(' ')) for _, row in lines.iterrows()]).reset_index()\n",
    "corpus_frequency.columns = [\"index\", \"word\"]\n",
    "corpus_frequency = corpus_frequency.groupby(\"word\").count()\n",
    "\n",
    "display(corpus_frequency)"
   ]
  },
  {
   "cell_type": "code",
   "execution_count": 94,
   "metadata": {},
   "outputs": [
    {
     "data": {
      "text/plain": [
       "<Axes: title={'center': 'Word frequency distribution'}, ylabel='Frequency'>"
      ]
     },
     "execution_count": 94,
     "metadata": {},
     "output_type": "execute_result"
    },
    {
     "data": {
      "image/png": "[encoded data removed]",
      "text/plain": [
       "<Figure size 1000x500 with 1 Axes>"
      ]
     },
     "metadata": {},
     "output_type": "display_data"
    },
    {
     "data": {
      "image/png": "[encoded data removed]",
      "text/plain": [
       "<Figure size 1000x500 with 1 Axes>"
      ]
     },
     "metadata": {},
     "output_type": "display_data"
    }
   ],
   "source": [
    "corpus_frequency.plot.hist(bins=100, figsize=(10, 5), title=\"Word frequency distribution\")\n",
    "\n",
    "corpus_frequency.plot.hist(bins=np.logspace(0, 6, 100), figsize=(10, 5), title=\"Word frequency distribution\", loglog=True)"
   ]
  },
  {
   "cell_type": "markdown",
   "metadata": {},
   "source": [
    "### Part 2: Talkativity\n",
    "**Q5**. For each of the recurrent characters, calculate their total number of words uttered across all episodes. Based on this, who seems to be the most talkative character?"
   ]
  },
  {
   "cell_type": "code",
   "execution_count": 103,
   "metadata": {},
   "outputs": [
    {
     "name": "stderr",
     "output_type": "stream",
     "text": [
      "/var/folders/2f/7b8hf27x4j3bt73xqs0kvtch0000gn/T/ipykernel_94395/611775573.py:3: SettingWithCopyWarning: \n",
      "A value is trying to be set on a copy of a slice from a DataFrame.\n",
      "Try using .loc[row_indexer,col_indexer] = value instead\n",
      "\n",
      "See the caveats in the documentation: https://pandas.pydata.org/pandas-docs/stable/user_guide/indexing.html#returning-a-view-versus-a-copy\n",
      "  lines_recurrent[\"Word_count\"] = lines_recurrent[\"Line\"].apply(lambda x: len(x.split()))\n"
     ]
    },
    {
     "data": {
      "text/plain": [
       "Character\n",
       "Amy              37384\n",
       "Arthur            1353\n",
       "Bernadette       25810\n",
       "Bert              1065\n",
       "Beverley          1918\n",
       "Emily             1472\n",
       "Howard           64988\n",
       "Kripke            1163\n",
       "Leonard          95608\n",
       "Leslie            1164\n",
       "Man               1162\n",
       "Mrs Cooper        3205\n",
       "Mrs Wolowitz      1364\n",
       "Penny            74247\n",
       "Priya             1824\n",
       "Raj              56390\n",
       "Sheldon         174911\n",
       "Stuart            7407\n",
       "Wil               1577\n",
       "Zack              1336\n",
       "Name: Word_count, dtype: int64"
      ]
     },
     "metadata": {},
     "output_type": "display_data"
    }
   ],
   "source": [
    "# your code goes here\n",
    "#add a column with the number of words in each line\n",
    "lines_recurrent[\"Word_count\"] = lines_recurrent[\"Line\"].apply(lambda x: len(x.split()))\n",
    "\n",
    "characters_word_frequency = lines_recurrent.groupby(\"Character\").sum()[\"Word_count\"]\n",
    "\n",
    "display(characters_word_frequency)"
   ]
  },
  {
   "cell_type": "code",
   "execution_count": 104,
   "metadata": {},
   "outputs": [
    {
     "name": "stdout",
     "output_type": "stream",
     "text": [
      "Most talkative character:  Sheldon\n"
     ]
    }
   ],
   "source": [
    "print(\"Most talkative character: \", characters_word_frequency[characters_word_frequency.index].idxmax())"
   ]
  },
  {
   "cell_type": "markdown",
   "metadata": {},
   "source": [
    "## Task D: The Detective's Hat\n",
    "\n",
    "Sheldon claims that given a dialogue line, he can, with an accuracy of above 70%, say whether it's by himself or by someone else. Leonard contests this claim, since he believes that this claimed accuracy is too high.\n",
    "\n",
    "**Q6**. Divide the set of all dialogue lines into two subsets: the training set, consisting of all the seasons except the last two, and the test set, consisting of the last two seasons."
   ]
  },
  {
   "cell_type": "code",
   "execution_count": 105,
   "metadata": {},
   "outputs": [],
   "source": [
    "# your code goes here\n",
    "train = lines_recurrent[lines_recurrent[\"Season\"] <= 7]\n",
    "test = lines_recurrent[lines_recurrent[\"Season\"] > 7]"
   ]
  },
  {
   "cell_type": "markdown",
   "metadata": {},
   "source": [
    "**Q7**. Find the set of all words in the training set that are only uttered by Sheldon. Is it possible for Sheldon to identify himself only based on these? Use the test set to assess this possibility, and explain your method."
   ]
  },
  {
   "cell_type": "code",
   "execution_count": 111,
   "metadata": {
    "tags": []
   },
   "outputs": [
    {
     "data": {
      "text/plain": [
       "25364"
      ]
     },
     "metadata": {},
     "output_type": "display_data"
    },
    {
     "data": {
      "text/plain": [
       "20696"
      ]
     },
     "metadata": {},
     "output_type": "display_data"
    }
   ],
   "source": [
    "# your code goes here\n",
    "#set of unique words in the training set\n",
    "unique_words = set()\n",
    "for _, row in train[train[\"Character\"] != \"Sheldon\"].iterrows():\n",
    "    unique_words.update(row[\"Line\"].split())\n",
    "\n",
    "unique_sheldon_words = set()\n",
    "for _, row in train[train[\"Character\"] == \"Sheldon\"].iterrows():\n",
    "    unique_sheldon_words.update(row[\"Line\"].split())\n",
    "\n",
    "display(len(unique_words))\n",
    "display(len(unique_sheldon_words))"
   ]
  },
  {
   "cell_type": "code",
   "execution_count": 112,
   "metadata": {},
   "outputs": [
    {
     "data": {
      "text/plain": [
       "10605"
      ]
     },
     "metadata": {},
     "output_type": "display_data"
    }
   ],
   "source": [
    "#words only in unique_sheldon_words and not in unique_words\n",
    "sheldon_unique_words = unique_sheldon_words.difference(unique_words)\n",
    "\n",
    "display(len(sheldon_unique_words))"
   ]
  },
  {
   "cell_type": "code",
   "execution_count": 114,
   "metadata": {},
   "outputs": [
    {
     "name": "stdout",
     "output_type": "stream",
     "text": [
      "Accuracy:  0.7569848851665248\n"
     ]
    }
   ],
   "source": [
    "#check in the test set if Sheldon uses these words\n",
    "\n",
    "def sheldon_unique_words_in_test(line):\n",
    "    for word in line.split():\n",
    "        if word in sheldon_unique_words:\n",
    "            return True\n",
    "    return False\n",
    "\n",
    "test_pred = test[\"Line\"].apply(sheldon_unique_words_in_test)\n",
    "test_true = test[\"Character\"] == \"Sheldon\"\n",
    "\n",
    "print(\"Accuracy: \", (test_true == test_pred).sum() / len(test_true))\n",
    "\n",
    "\n"
   ]
  }
 ],
 "metadata": {
  "kernelspec": {
   "display_name": "Python 3 (ipykernel)",
   "language": "python",
   "name": "python3"
  },
  "language_info": {
   "codemirror_mode": {
    "name": "ipython",
    "version": 3
   },
   "file_extension": ".py",
   "mimetype": "text/x-python",
   "name": "python",
   "nbconvert_exporter": "python",
   "pygments_lexer": "ipython3",
   "version": "3.9.18"
  },
  "varInspector": {
   "cols": {
    "lenName": 16,
    "lenType": 16,
    "lenVar": 40
   },
   "kernels_config": {
    "python": {
     "delete_cmd_postfix": "",
     "delete_cmd_prefix": "del ",
     "library": "var_list.py",
     "varRefreshCmd": "print(var_dic_list())"
    },
    "r": {
     "delete_cmd_postfix": ") ",
     "delete_cmd_prefix": "rm(",
     "library": "var_list.r",
     "varRefreshCmd": "cat(var_dic_list()) "
    }
   },
   "types_to_exclude": [
    "module",
    "function",
    "builtin_function_or_method",
    "instance",
    "_Feature"
   ],
   "window_display": false
  }
 },
 "nbformat": 4,
 "nbformat_minor": 4
}
