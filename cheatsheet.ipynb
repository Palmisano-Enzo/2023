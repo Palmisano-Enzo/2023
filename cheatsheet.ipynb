{
 "cells": [
  {
   "cell_type": "code",
   "execution_count": 1,
   "metadata": {},
   "outputs": [],
   "source": [
    "#standard import\n",
    "import numpy as np\n",
    "import pandas as pd\n",
    "import matplotlib.pyplot as plt\n",
    "\n",
    "#seaborn import\n",
    "import seaborn as sns"
   ]
  },
  {
   "cell_type": "code",
   "execution_count": 2,
   "metadata": {},
   "outputs": [
    {
     "data": {
      "text/plain": [
       "[False, True, True, False]"
      ]
     },
     "execution_count": 2,
     "metadata": {},
     "output_type": "execute_result"
    }
   ],
   "source": [
    "#pandas\n",
    "#create series\n",
    "bacteria = pd.Series([632, 1638, 569, 115], \n",
    "    index=['Firmicutes', 'Proteobacteria', 'Actinobacteria', 'Bacteroidetes'])\n",
    "\n",
    "[name.endswith('bacteria') for name in bacteria.index] #mask\n",
    "\n",
    "#apply function\n",
    "df1 = df.apply(lambda x: x * x, axis=0) #axis=0: apply to each column axis=1: apply to each row\n",
    "\n",
    "#import csv\n",
    "pd.read_csv()\n",
    "\n",
    "#merge\n",
    "left.merge(right, how='inner', on=None, left_on=None, right_on=None, left_index=False, right_index=False)\n",
    "\n",
    "#concat\n",
    "pd.concat([mb1, mb2], axis=1) #axis=0: row, axis=1: column\n",
    "\n",
    "#duplicate:\n",
    "df.duplicated(subset='names') #subset: column name\n",
    "df.drop_duplicates(['names'])\n",
    "\n",
    "#groupby\n",
    "df.groupby('team').agg(sum_points=('points', lambda x: x.nunique()),\n",
    "                       mean_assists=('assists', 'mean'),\n",
    "                       max_rebounds=('rebounds', 'max'))\n",
    "\n",
    "#year/month extraction\n",
    "df['datetime'] = pd.to_datetime(df['datetime'])\n",
    "df['year'] = df['datetime'].dt.year \n",
    "df['month'] = df['datetime'].dt.month "
   ]
  },
  {
   "cell_type": "code",
   "execution_count": null,
   "metadata": {},
   "outputs": [],
   "source": [
    "#stats\n",
    "\n",
    "#significant different\n",
    "from scipy import stats\n",
    "stats.ttest_ind(dm,df)"
   ]
  },
  {
   "cell_type": "code",
   "execution_count": null,
   "metadata": {},
   "outputs": [],
   "source": [
    "#plot tricks\n",
    "\n",
    "fig, (ax1, ax2, ax3) = plt.subplots(1, 3, figsize=(15, 6))\n",
    "\n",
    "ax1.set_title('Current')\n",
    "ax1.set_xlabel('Time [s]')\n",
    "ax1.set_ylabel('Current [A]')\n",
    "ax1.legend()\n",
    "\n",
    "plt.xscale(\"log\")\n",
    "\n",
    "plt.tight_layout()\n",
    "\n",
    "#sns tricks\n",
    "#barplot\n",
    "sns.barplot(x=data[:n].keys(), y=data[:n], ax=ax)\n",
    "\n",
    "# Box plot horizontal boxes\n",
    "ax = sns.boxplot(x=\"text_len\", y=\"category\", data=data)\n",
    "# Add in points to show each observation\n",
    "sns.stripplot(x=\"text_len\", y=\"category\", data=data)\n",
    "\n",
    "# Creates complementary CDF\n",
    "sns.ecdfplot(df[df[\"throws\"] == \"L\"].salary, label=\"Left-handed\", complementary=True)\n",
    "\n",
    "#plot with confidence intervalle\n",
    "sns.lineplot(x=\"month\", y=\"numwords1\", data=df_final_after_april14, label='winner')"
   ]
  },
  {
   "cell_type": "code",
   "execution_count": null,
   "metadata": {},
   "outputs": [],
   "source": [
    "#JSON tricks"
   ]
  },
  {
   "cell_type": "code",
   "execution_count": null,
   "metadata": {},
   "outputs": [],
   "source": [
    "#Networkx tricks\n",
    "import networkx as nx\n",
    "G = nx.MultiDiGraph()\n",
    "edge_list = pd.read_csv(\"./data/part-1/edgelist.tsv\", sep=\"\\t\")\n",
    "node_list = pd.read_csv(\"./data/part-1/nodelist.tsv\", sep=\"\\t\")\n",
    "\n",
    "# Creates node attributes\n",
    "for _, node in node_list.iterrows():\n",
    "    node = dict(node)\n",
    "    G.add_node(node['u'], score=node['score'], name=node['name'])\n",
    "\n",
    "# Creates edge attributes\n",
    "for _, edge in edge_list.iterrows():\n",
    "    edge = dict(edge)\n",
    "    G.add_edge(edge['u'], edge['v'], gender=edge['gender'])\n",
    "\n",
    "#show attribute\n",
    "for node_ in G.nodes.items():\n",
    "    print(node_)"
   ]
  },
  {
   "cell_type": "code",
   "execution_count": null,
   "metadata": {},
   "outputs": [],
   "source": [
    "#ML tricks \n",
    "\n",
    "#onehot\n",
    "tracks = df[\"track\"].unique()\n",
    "# rename columns to <track>-onehot\n",
    "for track in tracks:\n",
    "   df[track+'-onehot'] = (df['track'] == track).astype(int)\n",
    "\n",
    "#split dataset\n",
    "from sklearn.model_selection import train_test_split\n",
    "X_train, X_test, y_train, y_test = train_test_split(X, y, test_size=0.33, random_state=42)\n",
    "\n",
    "#sample for bootstrap\n",
    "#with DF\n",
    "df.sample(frac=2, replace=True, random_state=1)\n",
    "\n",
    "#general method\n",
    "def simple_bootstrap(f, val):\n",
    "    bs = random.choice(val, size=(len(val), 10000), replace=True)\n",
    "    val_ = f(bs)\n",
    "    lower, upper = np.quantile(val_, q=[0.025, 0.975])\n",
    "    return val.mean(), lower, upper\n",
    "\n",
    "simple_bootstrap(lambda x: np.mean(x, axis=0), random.random(1000))\n",
    "\n",
    "#95 confidence intervalle\n",
    "print(\"95% CI:\", np.quantile( np.array(DIFF), q=[0.025, 0.975]))\n",
    "\n",
    "#statsmodel\n",
    "import statsmodels.api as sm \n",
    "import statsmodels.formula.api as smf\n",
    "mod = smf.ols(formula='time ~ diabets + high_blood_pressure', data=df)\n",
    "np.random.seed(2)\n",
    "res = mod.fit()\n",
    "print(res.summary())\n",
    "\n",
    "#sklearn model\n",
    "from sklearn.linear_model import LogisticRegression\n",
    "\n",
    "X_train = X_train.iloc[:,-5497:]\n",
    "\n",
    "mod = LogisticRegression(random_state=0)\n",
    "clf = mod.fit(X_train,y_train)\n",
    "\n",
    "predict = res.predict(X_test)\n",
    "score = clf.score(X_test,y_test)"
   ]
  },
  {
   "cell_type": "code",
   "execution_count": null,
   "metadata": {},
   "outputs": [],
   "source": []
  }
 ],
 "metadata": {
  "kernelspec": {
   "display_name": "Python 3",
   "language": "python",
   "name": "python3"
  },
  "language_info": {
   "codemirror_mode": {
    "name": "ipython",
    "version": 3
   },
   "file_extension": ".py",
   "mimetype": "text/x-python",
   "name": "python",
   "nbconvert_exporter": "python",
   "pygments_lexer": "ipython3",
   "version": "3.9.18"
  }
 },
 "nbformat": 4,
 "nbformat_minor": 2
}
