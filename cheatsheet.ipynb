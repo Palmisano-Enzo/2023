{
 "cells": [
  {
   "cell_type": "code",
   "execution_count": 1,
   "metadata": {},
   "outputs": [],
   "source": [
    "#standard import\n",
    "import numpy as np\n",
    "import pandas as pd\n",
    "import matplotlib.pyplot as plt\n",
    "\n",
    "#seaborn import\n",
    "import seaborn as sns"
   ]
  },
  {
   "cell_type": "code",
   "execution_count": 2,
   "metadata": {},
   "outputs": [
    {
     "data": {
      "text/plain": [
       "[False, True, True, False]"
      ]
     },
     "execution_count": 2,
     "metadata": {},
     "output_type": "execute_result"
    }
   ],
   "source": [
    "#pandas\n",
    "#create series\n",
    "bacteria = pd.Series([632, 1638, 569, 115], \n",
    "    index=['Firmicutes', 'Proteobacteria', 'Actinobacteria', 'Bacteroidetes'])\n",
    "\n",
    "[name.endswith('bacteria') for name in bacteria.index] #mask\n",
    "\n",
    "#apply function\n",
    "df1 = df.apply(lambda x: x * x, axis=0) #axis=0: apply to each column axis=1: apply to each row\n",
    "\n",
    "#import csv\n",
    "pd.read_csv()\n",
    "\n",
    "#merge\n",
    "left.merge(right, how='inner', on=None, left_on=None, right_on=None, left_index=False, right_index=False)\n",
    "\n",
    "#concat\n",
    "pd.concat([mb1, mb2], axis=1) #axis=0: row, axis=1: column\n",
    "\n",
    "#duplicate:\n",
    "df.duplicated(subset='names') #subset: column name\n",
    "df.drop_duplicates(['names'])\n",
    "\n",
    "#groupby"
   ]
  },
  {
   "cell_type": "code",
   "execution_count": null,
   "metadata": {},
   "outputs": [],
   "source": [
    "#plot tricks\n",
    "\n",
    "plt.tight_layout()\n",
    "\n",
    "#sns tricks\n",
    "#barplot\n",
    "sns.barplot(x=data[:n].keys(), y=data[:n], ax=ax)\n",
    "\n",
    "# Box plot horizontal boxes\n",
    "ax = sns.boxplot(x=\"text_len\", y=\"category\", data=data)\n",
    "# Add in points to show each observation\n",
    "sns.stripplot(x=\"text_len\", y=\"category\", data=data)"
   ]
  },
  {
   "cell_type": "code",
   "execution_count": null,
   "metadata": {},
   "outputs": [],
   "source": [
    "#JSON tricks"
   ]
  }
 ],
 "metadata": {
  "kernelspec": {
   "display_name": "Python 3",
   "language": "python",
   "name": "python3"
  },
  "language_info": {
   "codemirror_mode": {
    "name": "ipython",
    "version": 3
   },
   "file_extension": ".py",
   "mimetype": "text/x-python",
   "name": "python",
   "nbconvert_exporter": "python",
   "pygments_lexer": "ipython3",
   "version": "3.9.18"
  }
 },
 "nbformat": 4,
 "nbformat_minor": 2
}
